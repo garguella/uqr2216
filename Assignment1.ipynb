{
 "cells": [
  {
   "cell_type": "markdown",
   "metadata": {},
   "source": [
    "## UQR2216 Assignment 1\n",
    "### Tian Mengxi (e0555841)\n",
    "An Ordinary Least Squares Multiple Regression model was built by using 9 X-variables to predict the dependent Y-variable ‘room receipt’, after which the RMSE, R^2 and MAE were used as metrics to evaluate the quality of the model’s prediction. \n",
    "\n",
    "The following were taken into consideration in this model:\n",
    "- Categorical variables\n",
    "- Collinearity\n",
    "- Transformations\n",
    "- Feature Selection"
   ]
  },
  {
   "cell_type": "code",
   "execution_count": 172,
   "metadata": {
    "scrolled": false
   },
   "outputs": [
    {
     "name": "stdout",
     "output_type": "stream",
     "text": [
      "Dataset has 580 rows.\n",
      "\n",
      "   year  month  days    type  occupancy_rate   room_rate  room_receipt\n",
      "0  2020      1    31  Luxury       83.478003  506.427381    422.755465\n",
      "1  2019     12    31  Luxury       86.472915  493.608149    426.837353\n",
      "2  2019     11    30  Luxury       89.676464  452.747203    406.007682\n",
      "3  2019     10    31  Luxury       87.985274  457.485963    402.520279\n",
      "4  2019      9    30  Luxury       88.450824  489.061425    432.578859\n"
     ]
    }
   ],
   "source": [
    "import pandas as pd\n",
    "import numpy as np\n",
    "import re\n",
    "import matplotlib.pyplot as pl\n",
    "%matplotlib inline\n",
    "from numpy.polynomial.polynomial import polyfit\n",
    "\n",
    "df = pd.read_excel('Singapore_Hotel.xlsx')\n",
    "df.columns = df.columns.str.replace(' ','_').str.lower()\n",
    "print('Dataset has', len(df), 'rows.\\n')\n",
    "print(df.head())"
   ]
  },
  {
   "cell_type": "markdown",
   "metadata": {},
   "source": [
    "## Cleaning Up Data\n",
    "1. Drop rows with missing values\n",
    "2. Drop rows with invalid entries. For the numeric columns 'year', 'month', 'days', 'occupancy_rate', 'room_rate' and 'room_receipt', these are rows where the values are negative. \n",
    "3. Display the unique values in 'year', 'month', 'days' and 'type' to ensure that all values are valid, before turn these columsn into categorical variables later."
   ]
  },
  {
   "cell_type": "code",
   "execution_count": 173,
   "metadata": {},
   "outputs": [],
   "source": [
    "#delete rows with any missing values\n",
    "df.dropna(how='any', inplace=True)\n",
    "\n",
    "#delete rows with invalid entries\n",
    "df = df[(df.days>0) & (df.occupancy_rate>0) & (df.room_rate>0) & (df.room_receipt>0) &\n",
    "        (df.year>0) & (df.month>0)]"
   ]
  },
  {
   "cell_type": "code",
   "execution_count": 174,
   "metadata": {},
   "outputs": [
    {
     "name": "stdout",
     "output_type": "stream",
     "text": [
      "Unique entries in variable 'year': [2008, 2009, 2010, 2011, 2012, 2013, 2014, 2015, 2016, 2017, 2018, 2019, 2020]\n",
      "\n",
      "Unique entries in variable 'month': [1, 2, 3, 4, 5, 6, 7, 8, 9, 10, 11, 12]\n",
      "\n",
      "Unique entries in variable 'days': [28, 29, 30, 31]\n",
      "\n",
      "Unique entries in variable 'type': ['Economy', 'Luxury', 'Mid-Tier', 'Upscale']\n"
     ]
    }
   ],
   "source": [
    "#check that the unique values in year, month, days and type are all valid\n",
    "print(\"Unique entries in variable 'year':\", sorted(set(df['year'].dropna()))\n",
    "      + ([np.nan] if df['year'].isnull().sum() > 0 else []))\n",
    "print(\"\\nUnique entries in variable 'month':\", sorted(set(df['month'].dropna()))\n",
    "      + ([np.nan] if df['month'].isnull().sum() > 0 else []))\n",
    "print(\"\\nUnique entries in variable 'days':\", sorted(set(df['days'].dropna()))\n",
    "      + ([np.nan] if df['days'].isnull().sum() > 0 else []))\n",
    "print(\"\\nUnique entries in variable 'type':\", sorted(set(df['type'].dropna()))\n",
    "      + ([np.nan] if df['type'].isnull().sum() > 0 else []))"
   ]
  },
  {
   "cell_type": "markdown",
   "metadata": {},
   "source": [
    "## Setting up Dependent Y-Variable as 'room_receipt' and dropping 'room_rate' due to the 'room_receipt ~ room_rate * occupancy_rate' relationship\n",
    "In this assignment, the dependent Y-variable to be predicted is ‘room receipt’. \n",
    "\n",
    "When I previously run the code for interactions and came up with a least squares regression for all variables including the interactions, I discovered that occupancy_rate x room_rate has very high t-value and a P-value of close to 0. This is interesting, and upon closer inspection of the excel data, it appears likely that the room receipt column of the excel data can be very closely approximated by taking the occupancy rate x room rate. Logically, this relationship is also not only reasonable, but also justified. \n",
    "\n",
    "As such I have decided to drop 'occupancy_rate' in my analysis. This would allow my model to be trained to predict values for 'room_receipt' without knowledge of the 'occupancy_rate'."
   ]
  },
  {
   "cell_type": "code",
   "execution_count": 175,
   "metadata": {},
   "outputs": [
    {
     "name": "stdout",
     "output_type": "stream",
     "text": [
      "['room_receipt', 'year', 'month', 'days', 'type', 'room_rate']\n"
     ]
    }
   ],
   "source": [
    "y = 'room_receipt'\n",
    "#drop 'room_rate' from the dataframe\n",
    "df.drop('occupancy_rate', axis=1, inplace=True)\n",
    "#get column names:\n",
    "colname = list(df)\n",
    "#move y to position 0:\n",
    "colname.insert(0, colname.pop(colname.index(y)))\n",
    "df = df[colname]\n",
    "print(colname)"
   ]
  },
  {
   "cell_type": "markdown",
   "metadata": {},
   "source": [
    "## Categorical Variables\n",
    "Create categorical variables for 'type', 'year', 'days' and 'month'"
   ]
  },
  {
   "cell_type": "code",
   "execution_count": 176,
   "metadata": {},
   "outputs": [
    {
     "name": "stdout",
     "output_type": "stream",
     "text": [
      "\n",
      "Unique values in text variable 'type': ['Economy', 'Luxury', 'Mid-Tier', 'Upscale']\n",
      "\n",
      "Categorical dummies from text variable 'type':\n",
      "\n",
      "   t_Luxury  t_Midtier  t_Upscale\n",
      "0         1          0          0\n",
      "1         1          0          0\n",
      "2         1          0          0\n",
      "\n",
      "Unique values in numeric variable 'month': [1, 2, 3, 4, 5, 6, 7, 8, 9, 10, 11, 12]\n",
      "\n",
      "Categorical dummies from numeric variable 'month':\n",
      "\n",
      "   m_2  m_3  m_4  m_5  m_6  m_7  m_8  m_9  m_10  m_11  m_12\n",
      "0    0    0    0    0    0    0    0    0     0     0     0\n",
      "1    0    0    0    0    0    0    0    0     0     0     1\n",
      "2    0    0    0    0    0    0    0    0     0     1     0\n",
      "\n",
      "Unique values in numeric variable 'year': [2008, 2009, 2010, 2011, 2012, 2013, 2014, 2015, 2016, 2017, 2018, 2019, 2020]\n",
      "\n",
      "Categorical dummies from numeric variable 'year:\n",
      "\n",
      "   y_2009  y_2010  y_2011  y_2012  y_2013  y_2014  y_2015  y_2016  y_2017  \\\n",
      "0       0       0       0       0       0       0       0       0       0   \n",
      "1       0       0       0       0       0       0       0       0       0   \n",
      "2       0       0       0       0       0       0       0       0       0   \n",
      "\n",
      "   y_2018  y_2019  y_2020  \n",
      "0       0       0       1  \n",
      "1       0       1       0  \n",
      "2       0       1       0  \n",
      "Unique values in numeric variable 'days': [28, 29, 30, 31]\n",
      "\n",
      "Categorical dummies from numeric variable 'days':\n",
      "\n",
      "   d_29  d_30  d_31\n",
      "0     0     0     1\n",
      "1     0     0     1\n",
      "2     0     1     0\n"
     ]
    }
   ],
   "source": [
    "#turn text variable Type into categorical dummies\n",
    "print(\"\\nUnique values in text variable 'type':\", sorted(set(df['type'].dropna()))\n",
    "      + ([np.nan] if df['type'].isnull().sum() > 0 else []))\n",
    "\n",
    "#use short prefix 't' instead of the obvious 'type' for better printing output\n",
    "d1 = pd.get_dummies(df['type'], prefix='t', drop_first=True)\n",
    "d1.rename(columns={'t_Mid-Tier': 't_Midtier'},inplace=True)\n",
    "print(\"\\nCategorical dummies from text variable 'type':\\n\")\n",
    "print(d1.head(3))\n",
    "\n",
    "#turn numeric variable month into categorical dummies\n",
    "print(\"\\nUnique values in numeric variable 'month':\", sorted(set(df['month'].dropna()))\n",
    "      + ([np.nan] if df['month'].isnull().sum() > 0 else []))\n",
    "\n",
    "#use short prefix 'm' instead of the obvious 'month' for better printing output\n",
    "d2 = pd.get_dummies(df['month'], prefix='m', drop_first=True)\n",
    "\n",
    "print(\"\\nCategorical dummies from numeric variable 'month':\\n\")\n",
    "print(d2.head(3))\n",
    "\n",
    "#turn numeric variable Year into categorical dummies\n",
    "print(\"\\nUnique values in numeric variable 'year':\", sorted(set(df['year'].dropna()))\n",
    "      + ([np.nan] if df['year'].isnull().sum() > 0 else []))\n",
    "\n",
    "#use short prefix 'y' instead of the obvious 'year' for better printing output\n",
    "d3 = pd.get_dummies(df['year'], prefix='y', drop_first=True)\n",
    "\n",
    "print(\"\\nCategorical dummies from numeric variable 'year:\\n\")\n",
    "print(d3.head(3))\n",
    "\n",
    "#turn numeric variable Day into categorical dummies\n",
    "print(\"Unique values in numeric variable 'days':\", sorted(set(df['days'].dropna()))\n",
    "      + ([np.nan] if df['days'].isnull().sum() > 0 else []))\n",
    "\n",
    "#use short prefix 'M' instead of the obvious 'Month' for better printing output\n",
    "d4 = pd.get_dummies(df['days'], prefix='d', drop_first=True)\n",
    "\n",
    "print(\"\\nCategorical dummies from numeric variable 'days':\\n\")\n",
    "print(d4.head(3))"
   ]
  },
  {
   "cell_type": "code",
   "execution_count": 177,
   "metadata": {
    "scrolled": false
   },
   "outputs": [
    {
     "name": "stdout",
     "output_type": "stream",
     "text": [
      "Reconstituted dataset has 577 rows.\n",
      "\n",
      "['room_receipt', 'room_rate', 't_Luxury', 't_Midtier', 't_Upscale', 'm_2', 'm_3', 'm_4', 'm_5', 'm_6', 'm_7', 'm_8', 'm_9', 'm_10', 'm_11', 'm_12', 'y_2009', 'y_2010', 'y_2011', 'y_2012', 'y_2013', 'y_2014', 'y_2015', 'y_2016', 'y_2017', 'y_2018', 'y_2019', 'y_2020', 'd_29', 'd_30', 'd_31']\n"
     ]
    }
   ],
   "source": [
    "#reconstitute dataframe df:\n",
    "df = pd.concat([df.drop(['type', 'month', 'year', 'days'], axis=1), d1, d2, d3, d4], axis=1)\n",
    "print('Reconstituted dataset has', len(df), 'rows.\\n')\n",
    "print(list(df))"
   ]
  },
  {
   "cell_type": "markdown",
   "metadata": {},
   "source": [
    "## Variable Transformation\n",
    "- square and square-root when variable non-negative\n",
    "- cube and cube-root for variable with any negative value"
   ]
  },
  {
   "cell_type": "code",
   "execution_count": 178,
   "metadata": {},
   "outputs": [
    {
     "name": "stdout",
     "output_type": "stream",
     "text": [
      "   room_receipt   room_rate  room_rate_sqar  room_rate_sqrt\n",
      "0    422.755465  506.427381   256468.692180       22.503941\n",
      "1    426.837353  493.608149   243649.004977       22.217294\n",
      "2    406.007682  452.747203   204980.029373       21.277857 \n",
      "\n",
      "Reconstituted dataset has 577 rows.\n",
      "\n",
      "['room_receipt', 'room_rate', 't_Luxury', 't_Midtier', 't_Upscale', 'm_2', 'm_3', 'm_4', 'm_5', 'm_6', 'm_7', 'm_8', 'm_9', 'm_10', 'm_11', 'm_12', 'y_2009', 'y_2010', 'y_2011', 'y_2012', 'y_2013', 'y_2014', 'y_2015', 'y_2016', 'y_2017', 'y_2018', 'y_2019', 'y_2020', 'd_29', 'd_30', 'd_31', 'room_rate_sqar', 'room_rate_sqrt']\n"
     ]
    }
   ],
   "source": [
    "#use only a subset of Xs:\n",
    "df_trans = df[['room_receipt','room_rate']].copy()\n",
    "\n",
    "#add squares and sqrt of Xs:\n",
    "for i in list(df_trans)[1:]: \n",
    "    if sum(df_trans[i] < 0) == 0: \n",
    "        df_trans[i + '_sqar'] = df[i] ** 2 \n",
    "        df_trans[i + '_sqrt'] = np.sqrt(df[i]) \n",
    "    else: \n",
    "        df_trans[i + '_cube'] = df[i] ** 3\n",
    "        df_trans[i + '_cbrt'] = np.cbrt(df[i])\n",
    "\n",
    "#verify square & square-root: \n",
    "print(df_trans.head(3), '\\n')\n",
    "\n",
    "#concatenate transformed variables to the original dataframe df:\n",
    "df = df.join(df_trans.drop(['room_rate'], axis=1).set_index('room_receipt'), on='room_receipt')\n",
    "print('Reconstituted dataset has', len(df), 'rows.\\n')\n",
    "print(list(df))"
   ]
  },
  {
   "cell_type": "markdown",
   "metadata": {},
   "source": [
    "## Checking for collinearity of one raw variable with another raw variable\n",
    "Delete any raw x too highly correlated with another raw x, to avoid collinearity"
   ]
  },
  {
   "cell_type": "code",
   "execution_count": 179,
   "metadata": {},
   "outputs": [
    {
     "name": "stdout",
     "output_type": "stream",
     "text": [
      "\n",
      "X pairs with correlations > 0.995 :\n",
      "(no more)\n",
      "\n",
      "0 collinear variables deleted.\n"
     ]
    }
   ],
   "source": [
    "corv = pd.DataFrame() #start empty dataframe for corr(Xs, y) to come\n",
    "for x in list(df)[1:]:\n",
    "    #during 1st time thru loop, new column, with label, created in empty dataframe\n",
    "    corv.loc[x, y] = df[x].corr(df[y]) #new entry, with row label, added to dataframe\n",
    "\n",
    "corv = corv.loc[abs(corv).sort_values([y]).index, :] #corr(Xs, y) ranked\n",
    "\n",
    "delta = 0.005 #corr difference lower limit\n",
    "dl2 = []\n",
    "icorr = True\n",
    "while icorr:\n",
    "    a = abs(corv).diff() <= delta #adjacent rows with similar abs(corr(Xs, y))\n",
    "    colname = list(df)[1:]\n",
    "    dl = []\n",
    "    print('\\nX pairs with correlations >', 1 - delta, ':')\n",
    "    for b in range(1, a.shape[0]):\n",
    "        if a.iloc[b, 0]:\n",
    "            if abs(df[a.index[b - 1]].corr(df[a.index[b]])) > 1 - delta:\n",
    "                #deleting 1 X from correlated pair:\n",
    "                dv0 = a.index[b - 1]\n",
    "                dv1 = a.index[b]\n",
    "\n",
    "                #neither should already be deleted:\n",
    "                if not (dv0 in dl) and not (dv1 in dl):\n",
    "                    #delete x with rather lower corr(x, y):\n",
    "                    if abs(corv.loc[dv0, y]) - abs(corv.loc[dv1, y]) >= delta:\n",
    "                        d = dv1\n",
    "                    elif len(dv0) < len(dv1): #delete x with longer name:\n",
    "                        d = dv1\n",
    "                    else:\n",
    "                        d = dv0\n",
    "\n",
    "                    dl.append(d) #for en masse deletion later\n",
    "                    corv.drop([d], axis=0, inplace=True) #delete from column of corr with y\n",
    "\n",
    "                    print(dv0,',',dv1)\n",
    "\n",
    "    if len(dl) > 0:\n",
    "        df.drop(axis=1, columns=dl, inplace=True) #variables deleted en masse\n",
    "        dl2 = dl2 + dl #keep for real deletion later\n",
    "        print('\\n' + str(len(dl)), 'variables considered for deletion:')\n",
    "        print('\\n'.join([str(x) for x in dl]))\n",
    "    else:\n",
    "        print('(no more)')\n",
    "        icorr = False\n",
    "\n",
    "#remaining Xs may be collinear\n",
    "print('\\n' + str(len(dl2)), 'collinear variables deleted.')\n",
    "\n",
    "#potential collinearity issues handled"
   ]
  },
  {
   "cell_type": "markdown",
   "metadata": {},
   "source": [
    "## Feature Selection\n",
    "Perform feature selection using adjusted R2 after transformation."
   ]
  },
  {
   "cell_type": "code",
   "execution_count": 180,
   "metadata": {
    "scrolled": true
   },
   "outputs": [
    {
     "name": "stdout",
     "output_type": "stream",
     "text": [
      "room_receipt ~ room_rate + t_Luxury + t_Midtier + t_Upscale + m_2 + m_3 + m_4 + m_5 + m_6 + m_7 + m_8 + m_9 + m_10 + m_11 + m_12 + y_2009 + y_2010 + y_2011 + y_2012 + y_2013 + y_2014 + y_2015 + y_2016 + y_2017 + y_2018 + y_2019 + y_2020 + d_29 + d_30 + d_31 + room_rate_sqar + room_rate_sqrt\n",
      "\n",
      "Adjusted R2 = 0.9919817317717686   &   max(p-value) = 0.942336892579906   for 32 Xs.\n",
      "Variable to drop: m_5\n",
      "\n",
      "Adjusted R2 = 0.9919963136319011   &   max(p-value) = 0.8055702304365819   for 31 Xs.\n",
      "Variable to drop: y_2020\n",
      "\n",
      "Adjusted R2 = 0.9920100331483246   &   max(p-value) = 0.69695528703099   for 30 Xs.\n",
      "Variable to drop: d_29\n",
      "\n",
      "Adjusted R2 = 0.992022377310482   &   max(p-value) = 0.6924031397432802   for 29 Xs.\n",
      "Variable to drop: t_Midtier\n",
      "\n",
      "Adjusted R2 = 0.9920346097463375   &   max(p-value) = 0.3911715873689622   for 28 Xs.\n",
      "Variable to drop: m_9\n",
      "\n",
      "Adjusted R2 = 0.9920346097463375   &   max(p-value) = 0.09814946315094766   for 27 Xs.\n",
      "Variable to drop: y_2009\n",
      "\n",
      "Adjusted R2 = 0.9920093883552589   &   max(p-value) = 0.10958846414632932   for 26 Xs.\n",
      "Variable to drop: room_rate_sqar\n",
      "\n",
      "Adjusted R2 = 0.9919866840594926   &   max(p-value) = 0.6173023881633415   for 25 Xs.\n",
      "Variable to drop: d_30\n",
      "\n",
      "Adjusted R2 = 0.9919866840594926   &   max(p-value) = 0.016180869498583262   for 24 Xs.\n",
      "Variable to drop: d_31\n",
      "\n",
      "Adjusted R2 = 0.9919168565892357   &   max(p-value) = 0.04045703303244929   for 23 Xs.\n",
      "Variable to drop: m_12\n",
      "\n",
      "Adjusted R2 = 0.9918698982284321   &   max(p-value) = 0.0003652595341908233   for 22 Xs.\n",
      "Variable to drop: m_4\n",
      "\n",
      "Adjusted R2 = 0.9916961561437543   &   max(p-value) = 6.352291973474529e-05   for 21 Xs.\n",
      "Variable to drop: y_2012\n",
      "\n",
      "Adjusted R2 = 0.9914685154906929   &   max(p-value) = 1.924756530616482e-05   for 20 Xs.\n",
      "Variable to drop: y_2011\n",
      "\n",
      "Adjusted R2 = 0.991199207027813   &   max(p-value) = 0.0003662818815220613   for 19 Xs.\n",
      "Variable to drop: y_2016\n",
      "\n",
      "Adjusted R2 = 0.991012241267399   &   max(p-value) = 0.00024770198004737905   for 18 Xs.\n",
      "Variable to drop: y_2015\n",
      "\n",
      "Adjusted R2 = 0.9908095795721725   &   max(p-value) = 0.00045466753416145076   for 17 Xs.\n",
      "Variable to drop: y_2014\n",
      "\n",
      "Adjusted R2 = 0.9906218265282066   &   max(p-value) = 0.0008330058451394741   for 16 Xs.\n",
      "Variable to drop: y_2017\n",
      "\n",
      "Adjusted R2 = 0.990449835874989   &   max(p-value) = 0.002460967536410847   for 15 Xs.\n",
      "Variable to drop: y_2010\n",
      "\n",
      "Adjusted R2 = 0.9903095906327639   &   max(p-value) = 0.0003613234739902611   for 14 Xs.\n",
      "Variable to drop: y_2013\n",
      "\n",
      "Adjusted R2 = 0.9901051291494011   &   max(p-value) = 4.4869052440101313e-05   for 13 Xs.\n",
      "Variable to drop: y_2018\n",
      "\n",
      "Adjusted R2 = 0.989825873007662   &   max(p-value) = 3.1610523245285727e-05   for 12 Xs.\n",
      "Variable to drop: m_6\n",
      "\n",
      "Adjusted R2 = 0.9895269000652614   &   max(p-value) = 0.00014771250431673628   for 11 Xs.\n",
      "Variable to drop: m_2\n",
      "\n",
      "Adjusted R2 = 0.989275262579648   &   max(p-value) = 0.0005895087995071404   for 10 Xs.\n",
      "Variable to drop: m_10\n",
      "\n",
      "Adjusted R2 = 0.9890682675145717   &   max(p-value) = 0.00021790956406980946   for 9 Xs.\n",
      "Variable to drop: m_11\n",
      "\n",
      "Adjusted R2 = 0.988820986435028   &   max(p-value) = 0.00012942211958078605   for 8 Xs.\n",
      "Variable to drop: m_3\n",
      "\n",
      "Adjusted R2 = 0.9885488008161615   &   max(p-value) = 6.722046772188235e-06   for 7 Xs.\n",
      "Variable to drop: y_2019\n",
      "\n",
      "Adjusted R2 = 0.9881539441371879   &   max(p-value) = 1.5618867594097153e-08   for 6 Xs.\n",
      "Variable to drop: m_8\n",
      "\n",
      "Adjusted R2 = 0.9874917653920853   &   max(p-value) = 6.127031479367295e-10   for 5 Xs.\n",
      "Variable to drop: room_rate_sqrt\n",
      "\n",
      "Adjusted R2 = 0.9866470536729004   &   max(p-value) = 5.605740416526318e-11   for 4 Xs.\n",
      "Variable to drop: m_7\n",
      "\n",
      "Adjusted R2 = 0.9856299084689979   &   max(p-value) = 2.312300689965468e-15   for 3 Xs.\n",
      "Variable to drop: t_Upscale\n",
      "\n",
      "Adjusted R2 = 0.9839924188390105   &   max(p-value) = 7.937323634036955e-20   for 2 Xs.\n",
      "Variable to drop: t_Luxury\n",
      "\n",
      "Adjusted R2 = 0.9815297737485665   &   max(p-value) = 0.0   for 1 Xs.\n",
      "Variable left: room_rate\n",
      "\n",
      "Best model has 24 Xs:\n",
      "                 Results: Ordinary least squares\n",
      "==================================================================\n",
      "Model:              OLS              Adj. R-squared:     0.992    \n",
      "Dependent Variable: room_receipt     AIC:                4252.4968\n",
      "Date:               2021-02-17 01:39 BIC:                4361.4428\n",
      "No. Observations:   577              Log-Likelihood:     -2101.2  \n",
      "Df Model:           24               F-statistic:        2972.    \n",
      "Df Residuals:       552              Prob (F-statistic): 0.00     \n",
      "R-squared:          0.992            Scale:              89.101   \n",
      "------------------------------------------------------------------\n",
      "                Coef.   Std.Err.    t     P>|t|   [0.025   0.975] \n",
      "------------------------------------------------------------------\n",
      "Intercept       19.5761   8.8752   2.2057 0.0278   2.1428  37.0095\n",
      "room_rate        1.3001   0.0461  28.2135 0.0000   1.2096   1.3906\n",
      "t_Luxury       -54.6774   3.6716 -14.8920 0.0000 -61.8894 -47.4654\n",
      "t_Upscale      -13.1662   1.7066  -7.7148 0.0000 -16.5185  -9.8140\n",
      "m_2             10.6372   1.9397   5.4840 0.0000   6.8271  14.4472\n",
      "m_3              8.8022   1.6661   5.2831 0.0000   5.5295  12.0749\n",
      "m_4              7.5010   1.9554   3.8360 0.0001   3.6600  11.3420\n",
      "m_6              9.8559   1.9628   5.0212 0.0000   6.0004  13.7115\n",
      "m_7             16.5046   1.6665   9.9035 0.0000  13.2310  19.7781\n",
      "m_8             12.9271   1.6660   7.7595 0.0000   9.6547  16.1996\n",
      "m_10             6.7361   1.6664   4.0423 0.0001   3.4629  10.0094\n",
      "m_11            12.0226   1.9502   6.1648 0.0000   8.1919  15.8533\n",
      "m_12            -4.5967   1.6693  -2.7537 0.0061  -7.8756  -1.3178\n",
      "y_2010          11.9082   1.6675   7.1414 0.0000   8.6328  15.1835\n",
      "y_2011           9.3665   1.6954   5.5247 0.0000   6.0363  12.6966\n",
      "y_2012           6.8154   1.7567   3.8797 0.0001   3.3648  10.2660\n",
      "y_2013          14.0315   1.7110   8.2007 0.0000  10.6706  17.3924\n",
      "y_2014          12.0947   1.7308   6.9880 0.0000   8.6950  15.4945\n",
      "y_2015          11.2106   1.7112   6.5512 0.0000   7.8493  14.5718\n",
      "y_2016           9.8786   1.7080   5.7839 0.0000   6.5237  13.2335\n",
      "y_2017          12.4182   1.7016   7.2979 0.0000   9.0758  15.7606\n",
      "y_2018          15.4650   1.7094   9.0473 0.0000  12.1073  18.8226\n",
      "y_2019          17.2940   1.7195  10.0573 0.0000  13.9163  20.6716\n",
      "d_31             4.0986   1.6991   2.4122 0.0162   0.7611   7.4361\n",
      "room_rate_sqrt  -8.8651   1.2675  -6.9943 0.0000 -11.3548  -6.3755\n",
      "------------------------------------------------------------------\n",
      "Omnibus:              224.182      Durbin-Watson:         1.162   \n",
      "Prob(Omnibus):        0.000        Jarque-Bera (JB):      2630.458\n",
      "Skew:                 -1.370       Prob(JB):              0.000   \n",
      "Kurtosis:             13.095       Condition No.:         6254    \n",
      "==================================================================\n",
      "* The condition number is large (6e+03). This might indicate\n",
      "strong multicollinearity or other numerical problems.\n",
      "\n",
      "X-coefficients' |t-stats| ranked:\n",
      "\n",
      "                    Coefficient     t-stat          P>|t|\n",
      "1        room_rate     1.300124  28.213505  4.219198e-109\n",
      "2         t_Luxury   -54.677413 -14.891951   2.081955e-42\n",
      "3           y_2019    17.293964  10.057292   5.799623e-22\n",
      "4              m_7    16.504561   9.903459   2.156698e-21\n",
      "5           y_2018    15.464987   9.047257   2.491657e-18\n",
      "6           y_2013    14.031477   8.200721   1.684438e-15\n",
      "7              m_8    12.927132   7.759479   4.151879e-14\n",
      "8        t_Upscale   -13.166209  -7.714827   5.698860e-14\n",
      "9           y_2017    12.418205   7.297891   1.023591e-12\n",
      "10          y_2010    11.908166   7.141448   2.928139e-12\n",
      "11  room_rate_sqrt    -8.865113  -6.994315   7.739261e-12\n",
      "12          y_2014    12.094734   6.987970   8.067606e-12\n",
      "13          y_2015    11.210554   6.551242   1.309151e-10\n",
      "14            m_11    12.022634   6.164850   1.362993e-09\n",
      "15          y_2016     9.878614   5.783901   1.223169e-08\n",
      "16          y_2011     9.366454   5.524738   5.090653e-08\n",
      "17             m_2    10.637154   5.484027   6.337145e-08\n",
      "18             m_3     8.802218   5.283059   1.831309e-07\n",
      "19             m_6     9.855919   5.021235   6.940015e-07\n",
      "20            m_10     6.736126   4.042344   6.044015e-05\n",
      "21          y_2012     6.815389   3.879660   1.172261e-04\n",
      "22             m_4     7.501019   3.835967   1.395049e-04\n",
      "23            m_12    -4.596684  -2.753705   6.086642e-03\n",
      "24            d_31     4.098582   2.412220   1.618087e-02\n"
     ]
    }
   ],
   "source": [
    "#t-stat p-value kept below .05\n",
    "df0 = df.copy()\n",
    "df3 = df.copy()\n",
    "modeleq = ' + '.join(list(df3)).replace('+', '~', 1)\n",
    "print(modeleq)\n",
    "maxR2 = -np.inf\n",
    "bmodeleq = modeleq\n",
    "R205 = -np.inf\n",
    "modeleq05 = ''\n",
    "numx = df3.shape[1] - 1\n",
    "from statsmodels.formula.api import ols\n",
    "\n",
    "while True:\n",
    "    regout = ols(modeleq, df3).fit()\n",
    "    R2 = regout.rsquared_adj\n",
    "    maxp = max(regout.pvalues[1:])\n",
    "    #see if a better model is found:\n",
    "    if R2 > maxR2:\n",
    "        maxR2 = R2\n",
    "        bmodeleq = modeleq\n",
    "        if maxp >= 0.05:\n",
    "            #reset p-value criterion:\n",
    "            R205 = -np.inf\n",
    "            modeleq05 = ''\n",
    "    \n",
    "    #see if a better model is found with max(t-stat p-value) < .05:\n",
    "    if maxp < .05 and R2 > R205:\n",
    "        R205 = R2\n",
    "        modeleq05 = modeleq\n",
    "        \n",
    "    print('\\nAdjusted R2 =', R2, '  &   max(p-value) =', maxp, '  for', numx, 'Xs.')\n",
    "\n",
    "    if numx == 1:\n",
    "        print('Variable left:', modeleq[modeleq.find('~') + 2 :])\n",
    "        # 1 xvar left\n",
    "        break\n",
    "\n",
    "    #identify X variable to delete by finding the one with smallest abs(t-stat):\n",
    "    t = regout.tvalues[1:]\n",
    "    xdrop = list(t[abs(t) == min(abs(t))].index)[0]\n",
    "    print('Variable to drop:', xdrop)\n",
    "    \n",
    "    df3.drop(xdrop, axis=1, inplace=True)\n",
    "    modeleq = ' + '.join(list(df3)).replace('+', '~', 1)\n",
    "    \n",
    "    numx = numx - 1\n",
    "\n",
    "#see if best model with all t-stat p-values < 0.05 is smaller than best model by adjusted R2:\n",
    "if R205 > -np.inf and len(modeleq05) < len(bmodeleq):\n",
    "    bmodeleq = modeleq05\n",
    "\n",
    "numx = bmodeleq.count('+') + 1\n",
    "print('\\nBest model has', numx, 'Xs:')\n",
    "regout = ols(bmodeleq, df0).fit()\n",
    "print(regout.summary2())\n",
    "\n",
    "if numx > 1:\n",
    "    #construct and print the variables in order of importance:\n",
    "\n",
    "    print(\"\\nX-coefficients' |t-stats| ranked:\\n\")\n",
    "    c = pd.Series(regout.params.index, index=regout.params.index)\n",
    "    df2 = pd.concat([c, regout.params, regout.tvalues, regout.pvalues, abs(regout.tvalues)], axis=1\n",
    "                   ).iloc[1:, :].sort_values(4, ascending=False).iloc[:, :4] #sort by 5th (4) column\n",
    "    df2.columns = ['', 'Coefficient', 't-stat', 'P>|t|']\n",
    "    df2.index = np.arange(1, len(df2) + 1)\n",
    "    print(df2)"
   ]
  },
  {
   "cell_type": "markdown",
   "metadata": {},
   "source": [
    "## Combining some dummy variables from 'month', and 'year', and dropping transformed variables for 'room_rate'.\n",
    "- Since the transformed variables for 'room_rate' ranked higher in p-value than the raw, untransformed variable, I decided to drop the transformed one.\n",
    "- To decrease the number of X-variables, I decided to adopt a new model with fewer dummy variables by combining some of them together, testing to see whether the t-stat value for the top ranked variables increases. It did. "
   ]
  },
  {
   "cell_type": "code",
   "execution_count": 185,
   "metadata": {
    "scrolled": true
   },
   "outputs": [
    {
     "name": "stdout",
     "output_type": "stream",
     "text": [
      "Initial variables included before feature selection:\n",
      "['y_2009', 'y_2010', 'y_2011', 'y_2012', 'y_2013', 'y_2014', 'y_2015', 'y_2016', 'y_2017', 'y_2018', 'y_2019', 'y_2020']\n",
      "room_receipt ~ room_rate + t_Luxury + t_Midtier + t_Upscale + m_4 + m_7 + m_10 + m_12 + y_2009 + y_2011 + y_2013 + y_2015 + y_2017 + y_2019 + d_29 + d_30 + d_31\n",
      "\n",
      "Adjusted R2 = 0.9889858079038928   &   max(p-value) = 0.8989330405263941   for 17 Xs.\n",
      "Variable to drop: m_4\n",
      "\n",
      "Adjusted R2 = 0.9890051585407188   &   max(p-value) = 0.6666329435471623   for 16 Xs.\n",
      "Variable to drop: y_2011\n",
      "\n",
      "Adjusted R2 = 0.9890211164944795   &   max(p-value) = 0.49926353803934564   for 15 Xs.\n",
      "Variable to drop: m_10\n",
      "\n",
      "Adjusted R2 = 0.9890317223562871   &   max(p-value) = 0.21363556173223341   for 14 Xs.\n",
      "Variable to drop: y_2015\n",
      "\n",
      "Adjusted R2 = 0.9890210048654166   &   max(p-value) = 0.15684723075784227   for 13 Xs.\n",
      "Variable to drop: d_31\n",
      "\n",
      "Adjusted R2 = 0.9890013493255314   &   max(p-value) = 0.19715708287814038   for 12 Xs.\n",
      "Variable to drop: d_29\n",
      "\n",
      "Adjusted R2 = 0.9889883603334376   &   max(p-value) = 0.0438428626412305   for 11 Xs.\n",
      "Variable to drop: y_2017\n",
      "\n",
      "Adjusted R2 = 0.9889284215111379   &   max(p-value) = 0.015875827053234808   for 10 Xs.\n",
      "Variable to drop: y_2013\n",
      "\n",
      "Adjusted R2 = 0.9888336832709236   &   max(p-value) = 0.00818651639374968   for 9 Xs.\n",
      "Variable to drop: d_30\n",
      "\n",
      "Adjusted R2 = 0.9887149086259104   &   max(p-value) = 0.00014140965312014922   for 8 Xs.\n",
      "Variable to drop: y_2009\n",
      "\n",
      "Adjusted R2 = 0.9884435396275594   &   max(p-value) = 7.868100277571682e-06   for 7 Xs.\n",
      "Variable to drop: y_2019\n",
      "\n",
      "Adjusted R2 = 0.9880513833569119   &   max(p-value) = 2.0708449888336561e-07   for 6 Xs.\n",
      "Variable to drop: m_12\n",
      "\n",
      "Adjusted R2 = 0.9874939505693215   &   max(p-value) = 5.821935398021091e-10   for 5 Xs.\n",
      "Variable to drop: t_Midtier\n",
      "\n",
      "Adjusted R2 = 0.9866470536729004   &   max(p-value) = 5.605740416526318e-11   for 4 Xs.\n",
      "Variable to drop: m_7\n",
      "\n",
      "Adjusted R2 = 0.9856299084689979   &   max(p-value) = 2.312300689965468e-15   for 3 Xs.\n",
      "Variable to drop: t_Upscale\n",
      "\n",
      "Adjusted R2 = 0.9839924188390105   &   max(p-value) = 7.937323634036955e-20   for 2 Xs.\n",
      "Variable to drop: t_Luxury\n",
      "\n",
      "Adjusted R2 = 0.9815297737485665   &   max(p-value) = 0.0   for 1 Xs.\n",
      "Variable left: room_rate\n",
      "\n",
      "Best model has 11 Xs:\n",
      "                 Results: Ordinary least squares\n",
      "==================================================================\n",
      "Model:              OLS              Adj. R-squared:     0.989    \n",
      "Dependent Variable: room_receipt     AIC:                4423.3264\n",
      "Date:               2021-02-17 01:48 BIC:                4475.6205\n",
      "No. Observations:   577              Log-Likelihood:     -2199.7  \n",
      "Df Model:           11               F-statistic:        4704.    \n",
      "Df Residuals:       565              Prob (F-statistic): 0.00     \n",
      "R-squared:          0.989            Scale:              122.44   \n",
      "-------------------------------------------------------------------\n",
      "            Coef.    Std.Err.     t      P>|t|    [0.025    0.975] \n",
      "-------------------------------------------------------------------\n",
      "Intercept  -24.9029    2.3277  -10.6985  0.0000  -29.4748  -20.3309\n",
      "room_rate    1.0447    0.0195   53.4995  0.0000    1.0064    1.0831\n",
      "t_Luxury   -65.0161    6.3812  -10.1886  0.0000  -77.5499  -52.4822\n",
      "t_Midtier   -8.7263    1.9206   -4.5435  0.0000  -12.4987   -4.9539\n",
      "t_Upscale  -25.8897    3.3692   -7.6843  0.0000  -32.5074  -19.2721\n",
      "m_7         10.5315    1.7259    6.1021  0.0000    7.1416   13.9214\n",
      "m_12       -10.1701    1.7271   -5.8885  0.0000  -13.5624   -6.7777\n",
      "y_2009      -6.7538    2.0181   -3.3465  0.0009  -10.7177   -2.7898\n",
      "y_2013       4.4641    1.6957    2.6326  0.0087    1.1335    7.7947\n",
      "y_2017       3.4224    1.6941    2.0201  0.0438    0.0948    6.7499\n",
      "y_2019       8.1925    1.6960    4.8305  0.0000    4.8613   11.5238\n",
      "d_30        -2.7621    1.0358   -2.6665  0.0079   -4.7967   -0.7275\n",
      "------------------------------------------------------------------\n",
      "Omnibus:              215.245      Durbin-Watson:         1.150   \n",
      "Prob(Omnibus):        0.000        Jarque-Bera (JB):      2134.481\n",
      "Skew:                 -1.353       Prob(JB):              0.000   \n",
      "Kurtosis:             12.025       Condition No.:         4488    \n",
      "==================================================================\n",
      "* The condition number is large (4e+03). This might indicate\n",
      "strong multicollinearity or other numerical problems.\n",
      "\n",
      "X-coefficients' |t-stats| ranked:\n",
      "\n",
      "               Coefficient     t-stat          P>|t|\n",
      "1   room_rate     1.044728  53.499454  2.501998e-223\n",
      "2    t_Luxury   -65.016057 -10.188633   1.706729e-22\n",
      "3   t_Upscale   -25.889727  -7.684252   6.844521e-14\n",
      "4         m_7    10.531470   6.102097   1.944774e-09\n",
      "5        m_12   -10.170057  -5.888508   6.691337e-09\n",
      "6      y_2019     8.192508   4.830458   1.756760e-06\n",
      "7   t_Midtier    -8.726282  -4.543508   6.769119e-06\n",
      "8      y_2009    -6.753751  -3.346526   8.726870e-04\n",
      "9        d_30    -2.762106  -2.666541   7.883150e-03\n",
      "10     y_2013     4.464083   2.632614   8.704822e-03\n",
      "11     y_2017     3.422360   2.020115   4.384286e-02\n"
     ]
    }
   ],
   "source": [
    "#perform feature selection using adjusted R2 after transformation\n",
    "#t-stat p-value kept below .05\n",
    "df3 = df.drop(['room_rate_sqrt', 'room_rate_sqar', 'y_2020', 'y_2018', 'y_2016', 'y_2014',\n",
    "               'y_2012', 'y_2010', 'm_2',  'm_3',  'm_5',  'm_6',  'm_8',  'm_9', 'm_11'], axis=1)\n",
    "\n",
    "print('Initial variables included before feature selection:')\n",
    "print(list(d3))\n",
    "modeleq = ' + '.join(list(df3)).replace('+', '~', 1)\n",
    "print(modeleq)\n",
    "maxR2 = -np.inf\n",
    "bmodeleq = modeleq\n",
    "R205 = -np.inf\n",
    "modeleq05 = ''\n",
    "numx = df3.shape[1] - 1\n",
    "from statsmodels.formula.api import ols\n",
    "\n",
    "while True:\n",
    "    regout = ols(modeleq, df3).fit()\n",
    "    R2 = regout.rsquared_adj\n",
    "    maxp = max(regout.pvalues[1:])\n",
    "    #see if a better model is found:\n",
    "    if R2 > maxR2:\n",
    "        maxR2 = R2\n",
    "        bmodeleq = modeleq\n",
    "        if maxp >= 0.05:\n",
    "            #reset p-value criterion:\n",
    "            R205 = -np.inf\n",
    "            modeleq05 = ''\n",
    "    \n",
    "    #see if a better model is found with max(t-stat p-value) < .05:\n",
    "    if maxp < .05 and R2 > R205:\n",
    "        R205 = R2\n",
    "        modeleq05 = modeleq\n",
    "        \n",
    "    print('\\nAdjusted R2 =', R2, '  &   max(p-value) =', maxp, '  for', numx, 'Xs.')\n",
    "\n",
    "    if numx == 1:\n",
    "        print('Variable left:', modeleq[modeleq.find('~') + 2 :])\n",
    "        # 1 xvar left\n",
    "        break\n",
    "\n",
    "    #identify X variable to delete by finding the one with smallest abs(t-stat):\n",
    "    t = regout.tvalues[1:]\n",
    "    xdrop = list(t[abs(t) == min(abs(t))].index)[0]\n",
    "    print('Variable to drop:', xdrop)\n",
    "    \n",
    "    df3.drop(xdrop, axis=1, inplace=True)\n",
    "    modeleq = ' + '.join(list(df3)).replace('+', '~', 1)\n",
    "    \n",
    "    numx = numx - 1\n",
    "\n",
    "#see if best model with all t-stat p-values < 0.05 is smaller than best model by adjusted R2:\n",
    "if R205 > -np.inf and len(modeleq05) < len(bmodeleq):\n",
    "    bmodeleq = modeleq05\n",
    "\n",
    "numx = bmodeleq.count('+') + 1\n",
    "print('\\nBest model has', numx, 'Xs:')\n",
    "regout = ols(bmodeleq, df0).fit()\n",
    "print(regout.summary2())\n",
    "\n",
    "if numx > 1:\n",
    "    #construct and print the variables in order of importance:\n",
    "\n",
    "    print(\"\\nX-coefficients' |t-stats| ranked:\\n\")\n",
    "    c = pd.Series(regout.params.index, index=regout.params.index)\n",
    "    df2 = pd.concat([c, regout.params, regout.tvalues, regout.pvalues, abs(regout.tvalues)], axis=1\n",
    "                   ).iloc[1:, :].sort_values(4, ascending=False).iloc[:, :4] #sort by 5th (4) column\n",
    "    df2.columns = ['', 'Coefficient', 't-stat', 'P>|t|']\n",
    "    df2.index = np.arange(1, len(df2) + 1)\n",
    "    print(df2)"
   ]
  },
  {
   "cell_type": "markdown",
   "metadata": {},
   "source": [
    "Keeping in mind that using too many independent variables may make it difficult to explain the significance of specific variables in the model, I decided use the top 9 variables with the highest t-stats values for the final model:"
   ]
  },
  {
   "cell_type": "code",
   "execution_count": 184,
   "metadata": {},
   "outputs": [
    {
     "name": "stdout",
     "output_type": "stream",
     "text": [
      "['room_rate', 't_Luxury', 't_Upscale', 'm_7', 'm_12', 'y_2019', 't_Midtier', 'y_2009', 'd_30']\n"
     ]
    }
   ],
   "source": [
    "df5 = df2[''][:-2] #list of all the Xs that will be used to train the model\n",
    "print(list(df5))"
   ]
  },
  {
   "cell_type": "markdown",
   "metadata": {},
   "source": [
    "## Splitting into training (3/4) and testing (1/4) data"
   ]
  },
  {
   "cell_type": "code",
   "execution_count": 156,
   "metadata": {},
   "outputs": [
    {
     "name": "stdout",
     "output_type": "stream",
     "text": [
      "['room_rate', 't_Luxury', 't_Upscale', 'm_7', 'm_12', 'y_2019', 't_Midtier', 'y_2009', 'd_30']\n"
     ]
    }
   ],
   "source": [
    "print(list(df5))\n",
    "y = df.loc[:, 'room_receipt'].values\n",
    "X = df.loc[:, list(df5)].values\n",
    "\n",
    "from sklearn.model_selection import train_test_split\n",
    "from sklearn import datasets, linear_model\n",
    "from sklearn import metrics\n",
    "Xtr, Xte, ytr, yte = train_test_split(X, y, test_size=0.25, random_state=1)\n",
    "#splitting data into test and train"
   ]
  },
  {
   "cell_type": "markdown",
   "metadata": {},
   "source": [
    "## Training the model and predicting based on testing data"
   ]
  },
  {
   "cell_type": "code",
   "execution_count": 157,
   "metadata": {},
   "outputs": [],
   "source": [
    "model = linear_model.LinearRegression()\n",
    "model.fit(Xtr, ytr)\n",
    "#fitting model with training data\n",
    "predictions = model.predict(Xte)\n",
    "#predicting with model and test data"
   ]
  },
  {
   "cell_type": "code",
   "execution_count": 158,
   "metadata": {},
   "outputs": [
    {
     "data": {
      "image/png": "[encoded data removed]",
      "text/plain": [
       "<Figure size 432x288 with 1 Axes>"
      ]
     },
     "metadata": {
      "needs_background": "light"
     },
     "output_type": "display_data"
    }
   ],
   "source": [
    "pl.scatter(y=predictions, x=yte)\n",
    "pl.title('Predicted vs actual room room receipt')\n",
    "pl.ylabel('Predicted room receipt')\n",
    "pl.xlabel('Actual room receipt')\n",
    "\n",
    "lineStart = 0\n",
    "lineEnd = 600\n",
    "pl.plot([lineStart, lineEnd], [lineStart, lineEnd], 'k-', color = 'g', label='y=x')\n",
    "pl.xlim(lineStart, lineEnd)\n",
    "pl.ylim(lineStart, lineEnd)\n",
    "pl.axis('square')\n",
    "pl.grid()\n",
    "pl.legend(loc='upper left')\n",
    "pl.rcParams[\"figure.figsize\"] = [6.000, 6.145] # for square plot"
   ]
  },
  {
   "cell_type": "markdown",
   "metadata": {},
   "source": [
    "Find the coefficients corresponding to each variable included in the model:"
   ]
  },
  {
   "cell_type": "code",
   "execution_count": 159,
   "metadata": {},
   "outputs": [
    {
     "name": "stdout",
     "output_type": "stream",
     "text": [
      "Coefficients: \n",
      " 1 room_rate   1.015218\n",
      "2  t_Luxury -55.919560\n",
      "3 t_Upscale -22.061815\n",
      "4       m_7  10.718694\n",
      "5      m_12  -8.132801\n",
      "6    y_2019   7.237425\n",
      "7 t_Midtier  -6.354859\n",
      "8    y_2009  -8.301015\n",
      "9      d_30  -2.553163\n"
     ]
    }
   ],
   "source": [
    "coefficients = pd.concat([pd.DataFrame(df5.reset_index()),pd.DataFrame(np.transpose(model.coef_))], axis = 1)\n",
    "#concatenate the columns from panda dataframe with coefficients from model\n",
    "print('Coefficients: \\n', coefficients.to_string(index=False, header=None))"
   ]
  },
  {
   "cell_type": "markdown",
   "metadata": {},
   "source": [
    "## Computing R^2, RMSE and MAE values for the predictions"
   ]
  },
  {
   "cell_type": "code",
   "execution_count": 160,
   "metadata": {
    "scrolled": true
   },
   "outputs": [
    {
     "name": "stdout",
     "output_type": "stream",
     "text": [
      "\n",
      "Root Mean Squared Error: 11.349760060133516\n",
      "R^2: 0.9892032183767624\n",
      "MAE: 5.539340945318372\n"
     ]
    }
   ],
   "source": [
    "print('\\nRoot Mean Squared Error:', np.sqrt(metrics.mean_squared_error(yte, predictions)))\n",
    "print('R^2:', metrics.r2_score(yte, predictions))\n",
    "print('MAE:', metrics.median_absolute_error(yte, predictions))"
   ]
  },
  {
   "cell_type": "markdown",
   "metadata": {},
   "source": [
    "## Report on Findings"
   ]
  },
  {
   "cell_type": "markdown",
   "metadata": {},
   "source": [
    "Overall, the R^2 value of 0.989 means that 98.9% percent of the dependent variable variation can be explained by the model; whether this is satisfactory depends on the client's target accuracy for the predictive model.\n",
    " \n",
    "However, considering that RMSE has the same unit as the dependent variable ‘room_receipt’ (which varies from 52 to 454), the RMSE of 11.35 for the model is high. Furthermore, while the MAE is weights all the errors equally, the RMSE gives a higher weight to larger errors. Thus, comparing the RMSE value with the MAE value of 5.54, we see that the regression does not account for some relatively large errors, and could be improved in terms of its accuracy. \n",
    "\n",
    "Finally, the number of x-variables in the model could be further reduced to facilitate ease of interpretation and to further increase its explanability. In the current model, room_rate and t_Luxury have the largest absolute t-statistic values (53.50 and 10.19 respectively), suggesting that they are the most \"useful\" variables in predicting room_rate. (162 words)"
   ]
  },
  {
   "cell_type": "code",
   "execution_count": null,
   "metadata": {},
   "outputs": [],
   "source": []
  }
 ],
 "metadata": {
  "kernelspec": {
   "display_name": "Python 3",
   "language": "python",
   "name": "python3"
  },
  "language_info": {
   "codemirror_mode": {
    "name": "ipython",
    "version": 3
   },
   "file_extension": ".py",
   "mimetype": "text/x-python",
   "name": "python",
   "nbconvert_exporter": "python",
   "pygments_lexer": "ipython3",
   "version": "3.8.5"
  }
 },
 "nbformat": 4,
 "nbformat_minor": 4
}
